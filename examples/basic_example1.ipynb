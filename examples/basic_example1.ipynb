{
  "nbformat": 4,
  "nbformat_minor": 0,
  "metadata": {
    "colab": {
      "name": "basic_example1.ipynb",
      "provenance": [],
      "collapsed_sections": []
    },
    "kernelspec": {
      "name": "python3",
      "display_name": "Python 3"
    },
    "language_info": {
      "name": "python"
    }
  },
  "cells": [
    {
      "cell_type": "code",
      "metadata": {
        "colab": {
          "base_uri": "https://localhost:8080/"
        },
        "id": "z340tldarSS0",
        "outputId": "2062a99d-06da-428b-bf7d-5da38d798b74"
      },
      "source": [
        "# in colab notebook, using packages through mounted google drive\n",
        "from google.colab import drive\n",
        "drive.mount('/content/gdrive')"
      ],
      "execution_count": 1,
      "outputs": [
        {
          "output_type": "stream",
          "name": "stdout",
          "text": [
            "Drive already mounted at /content/gdrive; to attempt to forcibly remount, call drive.mount(\"/content/gdrive\", force_remount=True).\n"
          ]
        }
      ]
    },
    {
      "cell_type": "code",
      "metadata": {
        "id": "R-JAVCWGrWNY"
      },
      "source": [
        "# install tellurium if necessary -- will need to restart runtime if so\n",
        "IS_COLAB = True\n",
        "if IS_COLAB:\n",
        "  try:\n",
        "    import tellurium as te\n",
        "  except:\n",
        "    !pip install -q tellurium\n",
        "    import tellurium as te"
      ],
      "execution_count": 2,
      "outputs": []
    },
    {
      "cell_type": "code",
      "metadata": {
        "id": "mJg8cmUbrb9B"
      },
      "source": [
        "import numpy as np\n",
        "import seaborn as sns\n",
        "import matplotlib.pyplot as plt\n",
        "import tellurium as te"
      ],
      "execution_count": 3,
      "outputs": []
    },
    {
      "cell_type": "code",
      "metadata": {
        "colab": {
          "base_uri": "https://localhost:8080/"
        },
        "id": "h_JPqinEroAo",
        "outputId": "43a09f3e-2f3e-4c91-e9cc-bd502d026cd2"
      },
      "source": [
        "# move to drive folder to access package\n",
        "%cd gdrive/MyDrive/"
      ],
      "execution_count": 4,
      "outputs": [
        {
          "output_type": "stream",
          "name": "stdout",
          "text": [
            "/content/gdrive/MyDrive\n"
          ]
        }
      ]
    },
    {
      "cell_type": "code",
      "metadata": {
        "id": "p6Bl1cKZrpqv"
      },
      "source": [
        "# import protomer_network class\n",
        "from protomer_network_distributions import protomer_network"
      ],
      "execution_count": 5,
      "outputs": []
    },
    {
      "cell_type": "code",
      "metadata": {
        "id": "j3nMrBxtrq4f"
      },
      "source": [
        "\"\"\"\n",
        "Create instance of protomer_network class using an input dictionary\n",
        "This dictionary contains, at the very least, the dissociation constants (affinities) of all dimer species for every protomer that may be in network\n",
        "In this case, protomer species are A, B, C and so possible dimers are A_B, A_C, B_C\n",
        "The two protomers are separated by an underscore (order does not matter), and dissocation constants are input as floats\n",
        "\n",
        "\"\"\"\n",
        "\n",
        "input_dict = {\n",
        "              'A_B':10*10**-9,\n",
        "              'A_C':100*10**-9,\n",
        "              'B_C':1*10**-9\n",
        "             }\n",
        "\n",
        "basic_example1 = protomer_network(input_dict)"
      ],
      "execution_count": 8,
      "outputs": []
    },
    {
      "cell_type": "code",
      "metadata": {
        "colab": {
          "base_uri": "https://localhost:8080/",
          "height": 700
        },
        "id": "U_qZ83Anr6Sl",
        "outputId": "8887a74e-456a-41c5-a6ec-83d90b3a11ff"
      },
      "source": [
        "\"\"\"\n",
        "To run a simulation, provide a sub dictionary containing every protomer desired in the protomer network. In this case, we will use all 3 (A, B, C)\n",
        "To simulate an output signal, provide a 'label' for any protomer species with one half of a split heterodimeric reporter\n",
        "The options for labels are True or False, where only a dimer bringing together opposite labels will result in a signal\n",
        "In this case, B has True and C has False, so the dimer B_C will create a signal\n",
        "Running the SimulateEquilibriumSpeciesDistribution method will print out the model summary and show the time series of the simulation reaching equilibrium\n",
        "The method returns a dictionary of each species and its concentration at equilibrium (the equilibrium distribution)\n",
        "\n",
        "\"\"\"\n",
        "\n",
        "sub_dict = {\n",
        "            'A':{},\n",
        "            'B':{'label':True},\n",
        "            'C':{'label':False}\n",
        "           }\n",
        "\n",
        "equilibrium_distribution1 = basic_example1.SimulateEquilibriumSpeciesDistribution(sub_dict)\n",
        "print(equilibrium_distribution1)"
      ],
      "execution_count": 11,
      "outputs": [
        {
          "output_type": "stream",
          "name": "stdout",
          "text": [
            "Model Summary:\n",
            "\n",
            "A + B -> A_B; on_A_B*A*B \n",
            "A_B -> A + B; off_A_B*A_B \n",
            "A + C -> A_C; on_A_C*A*C \n",
            "A_C -> A + C; off_A_C*A_C \n",
            "B + C -> B_C; on_B_C*B*C \n",
            "B_C -> B + C; off_B_C*B_C \n",
            " \n",
            "on_A_B = 8000000000 \n",
            "off_A_B = 80.0 \n",
            "on_A_C = 8000000000 \n",
            "off_A_C = 800.0000000000001 \n",
            "on_B_C = 8000000000 \n",
            "off_B_C = 8.0 \n",
            " \n",
            "A = 1e-08 \n",
            "B = 1e-08 \n",
            "C = 1e-08 \n",
            "\n",
            "\n"
          ]
        },
        {
          "output_type": "display_data",
          "data": {
            "image/png": "[encoded data removed]",
            "text/plain": [
              "<Figure size 432x288 with 1 Axes>"
            ]
          },
          "metadata": {}
        },
        {
          "output_type": "stream",
          "name": "stdout",
          "text": [
            "{'A': 8.137479612889245e-09, 'B': 1.9603038592834008e-09, 'A_B': 1.5952107166757688e-09, 'C': 3.2877496354884126e-09, 'A_C': 2.6754224297600977e-10, 'B_C': 6.444717996581862e-09}\n"
          ]
        }
      ]
    },
    {
      "cell_type": "code",
      "metadata": {
        "colab": {
          "base_uri": "https://localhost:8080/"
        },
        "id": "VER4J3ttr65P",
        "outputId": "796c46f2-a87a-4d54-f19f-ba128b33a53a"
      },
      "source": [
        "\"\"\"\n",
        "The PredictBinaryOutput method will use the equilibrium distribution and labels of the most recent simulation to predict output\n",
        "The signal is the summed concentrations of dimeric species with opposite labels\n",
        "If this signal is above a threshold (default signal_threshold = 5 * 10**-9), returns True, else False\n",
        "The method can also return the cumulative signal rather than a boolean\n",
        "\n",
        "\"\"\"\n",
        "\n",
        "binary_output1 = example1.PredictBinaryOutput()\n",
        "print(binary_output1)\n",
        "cumulative_signal1 = example1.PredictBinaryOutput(return_cumulative_signal=True)\n",
        "print(cumulative_signal1)"
      ],
      "execution_count": 15,
      "outputs": [
        {
          "output_type": "stream",
          "name": "stdout",
          "text": [
            "True\n",
            "6.444717996581862e-09\n"
          ]
        }
      ]
    },
    {
      "cell_type": "code",
      "metadata": {
        "colab": {
          "base_uri": "https://localhost:8080/",
          "height": 280
        },
        "id": "mi6BYGEMwYZB",
        "outputId": "6a55e361-46e3-43d7-8251-8d633aa4bbcb"
      },
      "source": [
        "\"\"\"\n",
        "The equilibrium distribution and species producing signal can be visualized with the VisualizeEquilibriumDistribution method\n",
        "This method plots a bar graph of every species and its concentration at equilibrium, with signaling dimers labelled\n",
        "\n",
        "\"\"\"\n",
        "\n",
        "example1.VisualizeEquilibriumDistribution()"
      ],
      "execution_count": 16,
      "outputs": [
        {
          "output_type": "display_data",
          "data": {
            "image/png": "[encoded data removed]",
            "text/plain": [
              "<Figure size 432x288 with 1 Axes>"
            ]
          },
          "metadata": {
            "needs_background": "light"
          }
        }
      ]
    }
  ]
}